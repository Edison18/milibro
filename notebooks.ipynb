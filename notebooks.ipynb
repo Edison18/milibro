{
 "cells": [
  {
   "cell_type": "markdown",
   "metadata": {},
   "source": [
    "# Modelos de procesos de software\n",
    "\n",
    "Cuando hablamos de un modelo de proceso de software se refiere a la representación"
    "desde actividades, requisitos, restricciones, roles, encargados, entre otros."
    "Un modelo de procesaos nos permite tener un orden, un flujo de trabajo a seguir"
    "para poder direccionar nuestras actividades, acciones y tareas.\n",
    "\n",
    "![](https://ivan395.github.io/Web/static/img/img_2.jpg)\n",
    "\n",
    "But make sure you \\$Escape \\$your \\$dollar signs \\$you want to keep!\n",
    "\n",
    "## Modelo en cascada\n",
    "\n",
    "El modelo en cascada se caracteriza por ser uno de los primeros, que se"
    "desarrolla secuencialmente y consecutivamente, es decir que cada proceso"
    "se desarrolla depués de haber terminado el anterior, al inicio se obtiene"
    "un análisis del sistema, aquí interviene el cliente, de ahí en más el se"
    "se realiza la creación y solo al final se realiza una sola entrega al cliente."
    .\n",
    "- Análisis"
    "- Diseño"
    "- Implementación"
    "- Validación"
    "- Mantenimiento"
    "\n",
    "## Modelo de proceso incremental\n",
    "\n",
    "Este modelo, se diferencia un poco del anterior, donde si bien sigue la misma"
    "secuencia de o flujo de trabajo, cambia drásticamente a la hora de realizar las" 
    "entregas, ya que no se realiza una sola, sino que por el contrario se realizan"
    "pequeñas entregas, pero que son funcionales y que ya pueden ser usadas por el"
    "cliente, de esta manera, aunque el proceso dure por ejemplo 1 año, el sistema" 
    "estará realativamente en uso mucho antes de la fecha máxima. Esto no solo"
    "mejora la productividad, sino también involucra más al cliente ya que tiene un"
    "mayor contacto y puede realizar las mejoras necesarias a tiempo."
    "**Entregable 1**"
    "- Análisis"
    "- Diseño"
    "- Implementación"
    "- Validación"
    "- Mantenimiento"
    "**Entregable 2**"
    "- Análisis"
    "- Diseño"
    "- Implementación"
    "- Validación"
    "- Mantenimiento"
    "..."
   ]
  },
  {
   "cell_type": "markdown",
   "metadata": {},
   "source": [
    "Existen más modelos de procesos de software, tales como el modelo en espiral,"
    "modelo de proceso evolutivo o modelo de proceso iterativo, entre los más"
    "conocidos. Puede investigar acerca de ellos para lograr una mayor comprensión."
   ]
  }
 ],
 "metadata": {
  "kernelspec": {
   "display_name": "Python 3",
   "language": "python",
   "name": "python3"
  },
  "language_info": {
   "codemirror_mode": {
    "name": "ipython",
    "version": 3
   },
   "file_extension": ".py",
   "mimetype": "text/x-python",
   "name": "python",
   "nbconvert_exporter": "python",
   "pygments_lexer": "ipython3",
   "version": "3.8.0"
  },
  "widgets": {
   "application/vnd.jupyter.widget-state+json": {
    "state": {},
    "version_major": 2,
    "version_minor": 0
   }
  }
 },
 "nbformat": 4,
 "nbformat_minor": 4
}
