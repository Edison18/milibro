{
  "cells": [
    {
      "cell_type": "markdown",
      "metadata": {},
      "source": [
        "# Modelos de procesos de software\n",
        "\n",
        "Cuando hablamos de un modelo de proceso de software, nos referimos a la representación desde actividades, requisitos, restricciones, roles, encargados, entre otros. Un modelo de procesos nos permite tener un orden y un flujo de trabajo a seguir para poder direccionar nuestras actividades, acciones y tareas.\n",
        "\n",
        "![Imagen](https://ivan395.github.io/Web/static/img/img_2.jpg)\n",
        "\n",
        "But make sure you $Escape $your $dollar signs $you want to keep!\n",
        "\n",
        "## Modelo en cascada\n",
        "\n",
        "El modelo en cascada se caracteriza por ser uno de los primeros, que se desarrolla secuencialmente y consecutivamente. Es decir, cada proceso se desarrolla después de haber terminado el anterior. Al inicio se obtiene un análisis del sistema, aquí interviene el cliente. Luego se realiza la creación y solo al final se realiza una sola entrega al cliente.\n",
        "\n",
        "Procesos:\n",
        "- Análisis\n",
        "- Diseño\n",
        "- Implementación\n",
        "- Validación\n",
        "- Mantenimiento\n",
        "\n",
        "## Modelo de proceso incremental\n",
        "\n",
        "Este modelo se diferencia un poco del anterior. Aunque sigue la misma secuencia o flujo de trabajo, cambia drásticamente a la hora de realizar las entregas. No se realiza una sola entrega, sino que, por el contrario, se realizan pequeñas entregas funcionales que ya pueden ser usadas por el cliente. De esta manera, aunque el proceso dure, por ejemplo, 1 año, el sistema estará en uso mucho antes de la fecha máxima. Esto no solo mejora la productividad, sino también involucra más al cliente, ya que tiene un mayor contacto y puede realizar las mejoras necesarias a tiempo.\n",
        "\n",
        "Entregables:\n",
        "- **Entregable 1**\n",
        "  - Análisis\n",
        "  - Diseño\n",
        "  - Implementación\n",
        "  - Validación\n",
        "  - Mantenimiento\n",
        "- **Entregable 2**\n",
        "  - Análisis\n",
        "  - Diseño\n",
        "  - Implementación\n",
        "  - Validación\n",
        "  - Mantenimiento\n"
      ]
    },
    {
      "cell_type": "markdown",
      "metadata": {},
      "source": [
        "Existen más modelos de procesos de software, tales como el modelo en espiral, modelo de proceso evolutivo o modelo de proceso iterativo, entre los más conocidos. Puede investigar acerca de ellos para lograr una mayor comprensión."
      ]
    }
  ],
  "metadata": {
    "kernelspec": {
      "display_name": "Python 3",
      "language": "python",
      "name
